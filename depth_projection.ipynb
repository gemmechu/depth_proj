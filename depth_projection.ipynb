{
 "cells": [
  {
   "cell_type": "code",
   "execution_count": 94,
   "metadata": {},
   "outputs": [],
   "source": [
    "import os\n",
    "import json\n",
    "import cv2\n",
    "import numpy as np\n",
    "import imageio.v3 as iio\n",
    "import trimesh"
   ]
  },
  {
   "cell_type": "code",
   "execution_count": 95,
   "metadata": {},
   "outputs": [],
   "source": [
    "def load_camera_params(json_path):\n",
    "    with open(json_path, 'r') as f:\n",
    "        cam = json.load(f)\n",
    "    K = np.array(cam['intrinsics'])\n",
    "    c2w = np.array(cam['c2w'])\n",
    "    return K, c2w\n",
    "\n",
    "def backproject_to_world(depth, K, c2w):\n",
    "    H, W = depth.shape\n",
    "    i, j = np.meshgrid(np.arange(W), np.arange(H), indexing='xy')\n",
    "    pixels = np.stack((i, j, np.ones_like(i)), axis=-1).reshape(-1, 3).T  # (3, H*W)\n",
    "\n",
    "    # Compute direction vectors in camera coordinates (not normalized)\n",
    "    K_inv = np.linalg.inv(K)\n",
    "    rays = K_inv @ pixels  # (3, N)\n",
    "\n",
    "    # Do not normalize rays — this is key\n",
    "    # Instead, just scale Z component of the rays to match depth:\n",
    "    scale = depth.reshape(-1) / rays[2, :]  # Z_depth / ray_z_component\n",
    "    cam_points = rays * scale  # scale each ray appropriately\n",
    "\n",
    "    # Convert to homogeneous coordinates\n",
    "    cam_points = np.vstack([cam_points, np.ones((1, cam_points.shape[1]))])  # (4, N)\n",
    "\n",
    "    # Transform to world space\n",
    "    world_coords = (c2w @ cam_points).T[:, :3]  # (N, 3)\n",
    "    return world_coords\n",
    "\n",
    "\n",
    "def convert_pose(C2W):\n",
    "    flip_yz = np.eye(4)\n",
    "    flip_yz[1, 1] = -1\n",
    "    flip_yz[2, 2] = -1\n",
    "    C2W = np.matmul(C2W, flip_yz)\n",
    "    return C2W\n",
    "\n",
    "# Load data\n",
    "# data_dir = \"/Users/gemmechu/Documents/meta/data/cube/camera_test\"\n",
    "# K, c2w = load_camera_params(os.path.join(data_dir, \"camera.json\"))\n",
    "\n",
    "# c2w  = convert_pose(c2w)\n",
    "# depth = iio.imread(os.path.join(data_dir, \"depth_0002.exr\"))[:,:,0]  # shape (H, W), float32\n",
    "# rgb = iio.imread(os.path.join(data_dir, \"rgb.png\"))[:, :, :3]  # (H, W, 3)\n",
    "\n",
    "# # Convert depth from 1-channel to linear depth if necessary (usually linear in EXR)\n",
    "# points_3d = backproject_to_world(depth, K, c2w)"
   ]
  },
  {
   "cell_type": "code",
   "execution_count": 53,
   "metadata": {},
   "outputs": [
    {
     "data": {
      "text/plain": [
       "(500, 500)"
      ]
     },
     "execution_count": 53,
     "metadata": {},
     "output_type": "execute_result"
    }
   ],
   "source": [
    "rgb = iio.imread(os.path.join(data_dir, \"rgb.png\"))\n",
    "rgb.shape"
   ]
  },
  {
   "cell_type": "code",
   "execution_count": 59,
   "metadata": {},
   "outputs": [],
   "source": [
    "\n",
    "cloud = trimesh.PointCloud(vertices=points_3d)\n",
    "a = cloud.export(os.path.join(data_dir, \"points2.ply\"))\n"
   ]
  },
  {
   "cell_type": "code",
   "execution_count": 42,
   "metadata": {},
   "outputs": [
    {
     "data": {
      "text/plain": [
       "(177, 400)"
      ]
     },
     "execution_count": 42,
     "metadata": {},
     "output_type": "execute_result"
    }
   ],
   "source": [
    "def project_3d_point_to_image(point_3d, K, C2W):\n",
    "    a = np.eye(4)\n",
    "    a[:3, :3] = K\n",
    "    K = a\n",
    "    # Create a 4x4 transformation matrix\n",
    "    extrinsic_matrix = np.linalg.inv(C2W)\n",
    "    # Project the 3D point onto the image\n",
    "    homogeneous_point_3d = np.append(point_3d, 1)\n",
    "    projected_point_homogeneous = K @ extrinsic_matrix @ homogeneous_point_3d\n",
    "\n",
    "    # Normalize the homogeneous coordinates\n",
    "    projected_point = projected_point_homogeneous[:2] / projected_point_homogeneous[2]\n",
    "\n",
    "    # Extract the x and y coordinates of the projected point\n",
    "    x_projected, y_projected = projected_point\n",
    "    return int(y_projected),int(x_projected)\n",
    "K, c2w = load_camera_params(os.path.join(data_dir, \"camera.json\"))\n",
    "\n",
    "point_3d, K, C2W = [0, 1, 1], K, c2w\n",
    "project_3d_point_to_image(point_3d, K, C2W)"
   ]
  },
  {
   "cell_type": "code",
   "execution_count": 96,
   "metadata": {},
   "outputs": [],
   "source": [
    "cameras_dict = \"/Users/gemmechu/Documents/meta/data/cube/cameras.json\"\n",
    "data = json.load(open(cameras_dict))\n",
    "frames = data[\"frames\"]\n",
    "frame = frames[\"0070\"]\n",
    "K = np.array(data[\"intrinsics\"])\n",
    "data_dir = \"/Users/gemmechu/Documents/meta/data/cube\""
   ]
  },
  {
   "cell_type": "code",
   "execution_count": 97,
   "metadata": {},
   "outputs": [],
   "source": [
    "c2w = np.array(frame[\"c2w\"])\n",
    "# c2w  = convert_pose(c2w)\n",
    "depth = iio.imread(os.path.join(data_dir, \"depth\", frame[\"depth\"]))[:,:,0]  # shape (H, W), float32 \n",
    "\n",
    "points_3d = backproject_to_world(depth, K, c2w)\n",
    "cloud = trimesh.PointCloud(vertices=points_3d)\n",
    "a = cloud.export(os.path.join(data_dir,\"points_inv\", \"points_20.ply\"))\n"
   ]
  },
  {
   "cell_type": "code",
   "execution_count": 110,
   "metadata": {},
   "outputs": [],
   "source": [
    "cameras_dict = \"/Users/gemmechu/Documents/meta/data/cube/cameras.json\"\n",
    "data = json.load(open(cameras_dict))\n",
    "frames = data[\"frames\"]\n",
    "K = np.array(data[\"intrinsics\"])\n",
    "data_dir = \"/Users/gemmechu/Documents/meta/data/cube\"\n",
    "outdir = os.path.join\n",
    "for fname in frames:\n",
    "    frame = frames[fname]\n",
    "    c2w = np.array(frame[\"c2w\"])\n",
    "    rgb = iio.imread(os.path.join(data_dir, \"rgb\",frame[\"rgb\"]))[:,:,:3]\n",
    "    c2w  = convert_pose(c2w)\n",
    "    depth = iio.imread(os.path.join(data_dir, \"depth\", frame[\"depth\"]))[:,:,0]  # shape (H, W), float32 \n",
    "\n",
    "    points_3d = backproject_to_world(depth, K, c2w)\n",
    "\n",
    "    colors = rgb.reshape(-1, 3)\n",
    "    if colors.dtype != np.uint8:\n",
    "        colors = (np.clip(colors, 0, 1) * 255).astype(np.uint8)\n",
    "\n",
    "    # Create point cloud with colors\n",
    "    cloud = trimesh.PointCloud(vertices=points_3d, colors=colors)\n",
    "    # cloud = trimesh.PointCloud(vertices=points_3d)\n",
    "    outpath = os.path.join(data_dir,\"points_opengl\",fname+\".ply\" )\n",
    "    a = cloud.export(outpath)\n",
    "    "
   ]
  },
  {
   "cell_type": "code",
   "execution_count": 109,
   "metadata": {},
   "outputs": [
    {
     "data": {
      "text/plain": [
       "(500, 500, 4)"
      ]
     },
     "execution_count": 109,
     "metadata": {},
     "output_type": "execute_result"
    }
   ],
   "source": [
    "python3 data_downloader/dataset_downloader_base_main.py -c /Users/gemmechu/Documents/meta/code/hot3d/hot3d-aria_download_urls.json -o /Users/gemmechu/Documents/meta/code/hot3d/dataset --sequence_name P0005_96f32b8f --data_types all"
   ]
  },
  {
   "cell_type": "code",
   "execution_count": null,
   "metadata": {},
   "outputs": [],
   "source": []
  }
 ],
 "metadata": {
  "kernelspec": {
   "display_name": "Python 3.10.16 ('py39')",
   "language": "python",
   "name": "python3"
  },
  "language_info": {
   "codemirror_mode": {
    "name": "ipython",
    "version": 3
   },
   "file_extension": ".py",
   "mimetype": "text/x-python",
   "name": "python",
   "nbconvert_exporter": "python",
   "pygments_lexer": "ipython3",
   "version": "3.10.16"
  },
  "orig_nbformat": 4,
  "vscode": {
   "interpreter": {
    "hash": "d38db382ba1c779d62f83ce77dbc878ca42195df9ed48825e7ef0511c57adc6a"
   }
  }
 },
 "nbformat": 4,
 "nbformat_minor": 2
}
