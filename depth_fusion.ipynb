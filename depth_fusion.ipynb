{
 "cells": [
  {
   "cell_type": "code",
   "execution_count": 1,
   "metadata": {},
   "outputs": [],
   "source": [
    "import os\n",
    "import json\n",
    "import torch\n",
    "from torch.utils.data import Dataset\n",
    "import cv2\n",
    "import numpy as np\n",
    "import trimesh"
   ]
  },
  {
   "cell_type": "code",
   "execution_count": null,
   "metadata": {},
   "outputs": [],
   "source": [
    "class CameraDataset(Dataset):\n",
    "    def __init__(self, root_dir, transform=None):\n",
    "        \"\"\"\n",
    "        Args:\n",
    "            root_dir (str): path to dataset root\n",
    "            transform (callable, optional): optional transforms applied to RGB\n",
    "        \"\"\"\n",
    "        self.root_dir = root_dir\n",
    "        self.rgb_dir = os.path.join(root_dir, \"rgb\")\n",
    "        self.depth_dir = os.path.join(root_dir, \"depth\")\n",
    "\n",
    "        # Load camera matrices\n",
    "        with open(os.path.join(root_dir, \"camera.json\"), 'r') as f:\n",
    "            cam_data = json.load(f)\n",
    "            self.cam_matrices = cam_data[\"camera_c2w\"]\n",
    "\n",
    "        self.frame_ids = sorted([entry[\"frame\"] for entry in self.cam_matrices])\n",
    "        self.transform = transform\n",
    "\n",
    "    def __len__(self):\n",
    "        return len(self.frame_ids)\n",
    "\n",
    "    def __getitem__(self, idx):\n",
    "        frame_id = self.frame_ids[idx]\n",
    "        rgb_path = os.path.join(self.rgb_dir, f\"{frame_id:04d}.png\")\n",
    "        depth_path = os.path.join(self.depth_dir, f\"{frame_id:04d}.exr\")\n",
    "        \n",
    "        # Load RGB image\n",
    "        rgb = cv2.imread(rgb_path, cv2.IMREAD_UNCHANGED)[:, :, :3]  # drop alpha if present\n",
    "        rgb = cv2.cvtColor(rgb, cv2.COLOR_BGR2RGB).astype(np.float32) / 255.0\n",
    "\n",
    "        # Load depth image (.exr is 32-bit float)\n",
    "        depth = cv2.imread(depth_path, cv2.IMREAD_UNCHANGED)  # (H, W)\n",
    "        if depth.ndim == 3:  # handle (H, W, 3) case\n",
    "            depth = depth[:, :, 0]\n",
    "\n",
    "        # Get camera-to-world matrix\n",
    "        c2w = np.array(self.cam_matrices[idx][\"matrix\"], dtype=np.float32)\n",
    "\n",
    "        sample = {\n",
    "            \"rgb\": torch.from_numpy(rgb).permute(2, 0, 1),  # (3, H, W)\n",
    "            \"depth\": torch.from_numpy(depth),               # (H, W)\n",
    "            \"c2w\": torch.from_numpy(c2w),                   # (4, 4)\n",
    "            \"frame_id\": frame_id\n",
    "        }\n",
    "\n",
    "        if self.transform:\n",
    "            sample[\"rgb\"] = self.transform(sample[\"rgb\"])\n",
    "\n",
    "        return sample"
   ]
  },
  {
   "cell_type": "code",
   "execution_count": null,
   "metadata": {},
   "outputs": [],
   "source": [
    "# dataset = CameraDataset(\"/Users/gemmechu/Documents/meta/data/cube\")\n",
    "# # loader = DataLoader(dataset, batch_size=1, shuffle=False)\n",
    "\n",
    "# for batch in loader:\n",
    "#     print(\"RGB:\", batch[\"rgb\"].shape)\n",
    "#     print(\"Depth:\", batch[\"depth\"].shape)\n",
    "#     print(\"Camera Pose:\\n\", batch[\"c2w\"])\n",
    "#     break"
   ]
  },
  {
   "cell_type": "code",
   "execution_count": 9,
   "metadata": {},
   "outputs": [
    {
     "name": "stdout",
     "output_type": "stream",
     "text": [
      "(250000, 3)\n"
     ]
    }
   ],
   "source": [
    "data_dir = \"/Users/gemmechu/Documents/meta/data/cube/points\"\n",
    "for fname in sorted(os.listdir(data_dir)):\n",
    "    fpath = os.path.join(data_dir,fname)\n",
    "    pts = trimesh.load(fpath).vertices\n",
    "    "
   ]
  },
  {
   "cell_type": "code",
   "execution_count": 6,
   "metadata": {},
   "outputs": [],
   "source": [
    "from scipy.spatial import cKDTree\n",
    "\n",
    "data_dir = \"/Users/gemmechu/Documents/meta/data/cube/points_color\"\n",
    "thresh, merged = 0.01, None\n",
    "results = []\n",
    "for f in sorted(os.listdir(data_dir)):\n",
    "    pts = trimesh.load(os.path.join(data_dir, f)).vertices\n",
    "    if merged is None:\n",
    "        merged = pts\n",
    "    else:\n",
    "        tree = cKDTree(merged)\n",
    "        mask = np.isinf(tree.query(pts, distance_upper_bound=thresh)[0])\n",
    "        merged = np.vstack((merged, pts[mask]))\n",
    "        results.append(merged)\n",
    "i = 0\n",
    "for f in sorted(os.listdir(data_dir)):\n",
    "    _ = trimesh.PointCloud(results[i]).export(f\"output/all_color/{f}\")\n",
    "    i +=1 \n",
    "    "
   ]
  },
  {
   "cell_type": "code",
   "execution_count": 14,
   "metadata": {},
   "outputs": [],
   "source": [
    "import os, trimesh, numpy as np\n",
    "from scipy.spatial import cKDTree\n",
    "\n",
    "data_dir = \"/Users/gemmechu/Documents/meta/data/cube/points_color\"\n",
    "out_dir = \"output/all_color\"\n",
    "os.makedirs(out_dir, exist_ok=True)\n",
    "\n",
    "merged_pts, merged_colors = None, None\n",
    "for f in sorted(os.listdir(data_dir)):\n",
    "    pc = trimesh.load(os.path.join(data_dir, f))\n",
    "    pts, colors = pc.vertices, getattr(pc, 'colors', None)\n",
    "\n",
    "    if merged_pts is None:\n",
    "        merged_pts, merged_colors = pts, colors\n",
    "    else:\n",
    "        mask = np.isinf(cKDTree(merged_pts).query(pts, distance_upper_bound=0.01)[0])\n",
    "        merged_pts = np.vstack((merged_pts, pts[mask]))\n",
    "        if merged_colors is not None and colors is not None:\n",
    "            merged_colors = np.vstack((merged_colors, colors[mask]))\n",
    "\n",
    "    out_pc = trimesh.PointCloud(merged_pts, colors=merged_colors) if merged_colors is not None else trimesh.PointCloud(merged_pts)\n",
    "    _ = out_pc.export(os.path.join(out_dir, f))\n"
   ]
  },
  {
   "cell_type": "code",
   "execution_count": 9,
   "metadata": {},
   "outputs": [
    {
     "ename": "IndexError",
     "evalue": "list index out of range",
     "output_type": "error",
     "traceback": [
      "\u001b[0;31m---------------------------------------------------------------------------\u001b[0m",
      "\u001b[0;31mIndexError\u001b[0m                                Traceback (most recent call last)",
      "\u001b[1;32m/Users/gemmechu/Documents/meta/code/depth_fusion.ipynb Cell 7\u001b[0m in \u001b[0;36m<cell line: 2>\u001b[0;34m()\u001b[0m\n\u001b[1;32m      <a href='vscode-notebook-cell:/Users/gemmechu/Documents/meta/code/depth_fusion.ipynb#X10sZmlsZQ%3D%3D?line=0'>1</a>\u001b[0m i \u001b[39m=\u001b[39m \u001b[39m0\u001b[39m\n\u001b[1;32m      <a href='vscode-notebook-cell:/Users/gemmechu/Documents/meta/code/depth_fusion.ipynb#X10sZmlsZQ%3D%3D?line=1'>2</a>\u001b[0m \u001b[39mfor\u001b[39;00m f \u001b[39min\u001b[39;00m \u001b[39msorted\u001b[39m(os\u001b[39m.\u001b[39mlistdir(data_dir)):\n\u001b[0;32m----> <a href='vscode-notebook-cell:/Users/gemmechu/Documents/meta/code/depth_fusion.ipynb#X10sZmlsZQ%3D%3D?line=2'>3</a>\u001b[0m     _ \u001b[39m=\u001b[39m trimesh\u001b[39m.\u001b[39mPointCloud(results[i])\u001b[39m.\u001b[39mexport(\u001b[39mf\u001b[39m\u001b[39m\"\u001b[39m\u001b[39moutput/all_color/\u001b[39m\u001b[39m{\u001b[39;00mf\u001b[39m}\u001b[39;00m\u001b[39m\"\u001b[39m)\n\u001b[1;32m      <a href='vscode-notebook-cell:/Users/gemmechu/Documents/meta/code/depth_fusion.ipynb#X10sZmlsZQ%3D%3D?line=3'>4</a>\u001b[0m     i \u001b[39m+\u001b[39m\u001b[39m=\u001b[39m\u001b[39m1\u001b[39m\n",
      "\u001b[0;31mIndexError\u001b[0m: list index out of range"
     ]
    }
   ],
   "source": [
    "i = 0\n",
    "for f in sorted(os.listdir(data_dir)):\n",
    "    _ = trimesh.PointCloud(results[i]).export(f\"output/all_color/{f}\")\n",
    "    i +=1 \n",
    "    "
   ]
  },
  {
   "cell_type": "code",
   "execution_count": 14,
   "metadata": {},
   "outputs": [],
   "source": [
    "def voxel_downsample(points, voxel_size):\n",
    "    coords = (points / voxel_size).astype(np.int32)\n",
    "    _, unique_idx = np.unique(coords, axis=0, return_index=True)\n",
    "    return points[unique_idx]\n",
    "\n",
    "data_dir = \"/Users/gemmechu/Documents/meta/data/cube/points\"\n",
    "voxel_size = 0.01\n",
    "all_points = []\n",
    "\n",
    "for f in sorted(os.listdir(data_dir)):\n",
    "    pts = trimesh.load(os.path.join(data_dir, f)).vertices\n",
    "    all_points.append(pts)\n",
    "\n",
    "merged = voxel_downsample(np.vstack(all_points), voxel_size)\n",
    "trimesh.PointCloud(merged).export(\"output/merged2.ply\")"
   ]
  },
  {
   "cell_type": "code",
   "execution_count": null,
   "metadata": {},
   "outputs": [],
   "source": []
  }
 ],
 "metadata": {
  "kernelspec": {
   "display_name": "Python 3.10.16 ('py39')",
   "language": "python",
   "name": "python3"
  },
  "language_info": {
   "codemirror_mode": {
    "name": "ipython",
    "version": 3
   },
   "file_extension": ".py",
   "mimetype": "text/x-python",
   "name": "python",
   "nbconvert_exporter": "python",
   "pygments_lexer": "ipython3",
   "version": "3.10.16"
  },
  "orig_nbformat": 4,
  "vscode": {
   "interpreter": {
    "hash": "d38db382ba1c779d62f83ce77dbc878ca42195df9ed48825e7ef0511c57adc6a"
   }
  }
 },
 "nbformat": 4,
 "nbformat_minor": 2
}
